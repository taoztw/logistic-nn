{
 "cells": [
  {
   "cell_type": "markdown",
   "metadata": {},
   "source": [
    "> 吴恩达深度学习编程作业模型结构总结\n",
    "\n",
    "\n",
    "def model(X,Y,layers_dims,optimizer,learning_rate=0.0007,\n",
    "          mini_batch_size=64,beta=0.9,beta1=0.9,beta2=0.999,\n",
    "          epsilon=1e-8,num_epochs=10000,print_cost=True,is_plot=True)\n",
    "\n",
    "    参数：\n",
    "        X - 输入数据，维度为（2，输入的数据集里面样本数量）\n",
    "        Y - 与X对应的标签\n",
    "        layers_dims - 包含层数和节点数量的列表\n",
    "        optimizer - 字符串类型的参数，用于选择优化类型，【 \"gd\" | \"momentum\" | \"adam\" 】\n",
    "        learning_rate - 学习率\n",
    "        mini_batch_size - 每个小批量数据集的大小\n",
    "        beta - 用于动量优化的一个超参数\n",
    "        beta1 - 用于计算梯度后的指数衰减的估计的超参数\n",
    "        beta2 - 用于计算平方梯度后的指数衰减的估计的超参数\n",
    "        epsilon - 用于在Adam中避免除零操作的超参数，一般不更改\n",
    "        num_epochs - 整个训练集的遍历次数\n",
    "        print_cost - 是否打印误差值\n",
    "        is_plot - 是否绘制出曲线图\n",
    "        \n",
    "    返回：\n",
    "        parameters - 包含了学习后的参数\n",
    "        \n",
    "     \n",
    "     \n",
    "     初始化参数:\n",
    "         parameters = initialize_parameters(layers_dims) # 随机初始化,抑梯度初始化...\n",
    "         \n",
    "     迭代:\n",
    "         (使用dropout,丢弃的节点不参与迭代时的前向和后向传播)\n",
    "         mini-batch\n",
    "         前向传播 : AL, cache = forward_propagation(minibatch_X,parameters)\n",
    "         计算误差 : cost = compute_cost(AL,minibatch_Y)\n",
    "         反向传播 : grads = backward_propagation(minibatch_X,minibatch_Y,cache)\n",
    "         更新参数 : parameters = update_parameters(parameters,grads,...) # gd,momentum,Adam.\n",
    "     return parameters"
   ]
  }
 ],
 "metadata": {
  "kernelspec": {
   "display_name": "Python 3",
   "language": "python",
   "name": "python3"
  },
  "language_info": {
   "codemirror_mode": {
    "name": "ipython",
    "version": 3
   },
   "file_extension": ".py",
   "mimetype": "text/x-python",
   "name": "python",
   "nbconvert_exporter": "python",
   "pygments_lexer": "ipython3",
   "version": "3.6.8"
  }
 },
 "nbformat": 4,
 "nbformat_minor": 2
}
